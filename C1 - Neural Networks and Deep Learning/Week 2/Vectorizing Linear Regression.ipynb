{
 "cells": [
  {
   "cell_type": "code",
   "execution_count": 2,
   "id": "d5c06cab",
   "metadata": {},
   "outputs": [],
   "source": [
    "import numpy as np\n",
    "from sklearn.datasets import make_classification"
   ]
  },
  {
   "cell_type": "code",
   "execution_count": 3,
   "id": "eb71b867",
   "metadata": {},
   "outputs": [],
   "source": [
    "# J = 0\n",
    "# dw1 = 0\n",
    "# dw2 = 0\n",
    "# db = 0\n",
    "\n",
    "# for i in range(m):\n",
    "#     z[i] = w.T X[i] + b\n",
    "#     a[i] = sigma(z[i])\n",
    "#     J += -(y[i]*np.log(a[i])+(1-y[i])*log(1-a[i]))\n",
    "#     dz[i] = a[i] - y[i]\n",
    "#     d21 +="
   ]
  },
  {
   "cell_type": "markdown",
   "id": "cb0d8c2e",
   "metadata": {},
   "source": [
    "Vectorizing Linear Regression\n",
    "\n",
    "$z^{(1)} = \\color{blue}{w^Tx^{(1)} + b}$\n",
    "\n",
    "$a^{(1)} = \\sigma(z^{(1)})$\n",
    "\n",
    "\n",
    "$X = [x^{(1)} \\quad x^{(2)} \\dots x^{(m)}] \\quad (n_{x}, m)$\n",
    "\n",
    "$Z = [z^{(1)} \\quad z^{(2)} \\dots z^{(m)}] = w^T * X + [b \\quad b \\dots b] = [\\color{blue}{w^Tx^{(1)}+b} \\quad w^Tx^{(2)}+b \\dots w^Tx^{(m)}+b]$\n",
    "\n",
    "Equals to:\n",
    "\n",
    "```\n",
    "Z = np.dot(w.T, X) + b\n",
    "```"
   ]
  }
 ],
 "metadata": {
  "hide_input": false,
  "kernelspec": {
   "display_name": "Python 3",
   "language": "python",
   "name": "python3"
  },
  "language_info": {
   "codemirror_mode": {
    "name": "ipython",
    "version": 3
   },
   "file_extension": ".py",
   "mimetype": "text/x-python",
   "name": "python",
   "nbconvert_exporter": "python",
   "pygments_lexer": "ipython3",
   "version": "3.8.10"
  },
  "toc": {
   "base_numbering": 1,
   "nav_menu": {},
   "number_sections": true,
   "sideBar": true,
   "skip_h1_title": false,
   "title_cell": "Table of Contents",
   "title_sidebar": "Contents",
   "toc_cell": false,
   "toc_position": {},
   "toc_section_display": true,
   "toc_window_display": false
  }
 },
 "nbformat": 4,
 "nbformat_minor": 5
}
